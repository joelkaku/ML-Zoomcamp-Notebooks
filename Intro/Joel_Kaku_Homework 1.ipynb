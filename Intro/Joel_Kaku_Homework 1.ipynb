{
 "cells": [
  {
   "cell_type": "markdown",
   "id": "d53e8eb8-fb42-462f-bb47-e6a156ac54cb",
   "metadata": {},
   "source": [
    "## Homework\n",
    "\n",
    "### Set up the environment\n",
    "\n",
    "You need to install Python, NumPy, Pandas, Matplotlib and Seaborn. For that, you can use the instructions from\n",
    "[06-environment.md](../../../01-intro/06-environment.md).\n",
    "\n",
    "### Q1. Pandas version\n",
    "\n",
    "What's the version of Pandas that you installed?\n",
    "\n",
    "You can get the version information using the `__version__` field:\n",
    "\n",
    "```python\n",
    "pd.__version__\n",
    "```\n",
    "\n",
    "### Getting the data \n",
    "\n",
    "For this homework, we'll use the Laptops Price dataset. Download it from \n",
    "[here](https://raw.githubusercontent.com/alexeygrigorev/datasets/master/laptops.csv).\n",
    "\n",
    "You can do it with wget:\n",
    "\n",
    "```bash\n",
    "wget https://raw.githubusercontent.com/alexeygrigorev/datasets/master/laptops.csv\n",
    "```\n",
    "\n",
    "Or just open it with your browser and click \"Save as...\".\n",
    "\n",
    "Now read it with Pandas.\n",
    "\n",
    "### Q2. Records count\n",
    "\n",
    "How many records are in the dataset?\n",
    "\n",
    "- 12\n",
    "- 1000\n",
    "- 2160\n",
    "- 12160\n",
    "\n",
    "### Q3. Laptop brands\n",
    "\n",
    "How many laptop brands are presented in the dataset?\n",
    "\n",
    "- 12\n",
    "- 27\n",
    "- 28\n",
    "- 2160\n",
    "\n",
    "### Q4. Missing values\n",
    "\n",
    "How many columns in the dataset have missing values?\n",
    "\n",
    "- 0\n",
    "- 1\n",
    "- 2\n",
    "- 3\n",
    "\n",
    "### Q5. Maximum final price\n",
    "\n",
    "What's the maximum final price of Dell notebooks in the dataset?\n",
    "\n",
    "- 869\n",
    "- 3691\n",
    "- 3849\n",
    "- 3936\n",
    "\n",
    "### Q6. Median value of Screen\n",
    "\n",
    "1. Find the median value of `Screen` column in the dataset.\n",
    "2. Next, calculate the most frequent value of the same `Screen` column.\n",
    "3. Use `fillna` method to fill the missing values in `Screen` column with the most frequent value from the previous step.\n",
    "4. Now, calculate the median value of `Screen` once again.\n",
    "\n",
    "Has it changed?\n",
    "\n",
    "> Hint: refer to existing `mode` and `median` functions to complete the task.\n",
    "\n",
    "- Yes\n",
    "- No\n",
    "\n",
    "### Q7. Sum of weights\n",
    "\n",
    "1. Select all the \"Innjoo\" laptops from the dataset.\n",
    "2. Select only columns `RAM`, `Storage`, `Screen`.\n",
    "3. Get the underlying NumPy array. Let's call it `X`.\n",
    "4. Compute matrix-matrix multiplication between the transpose of `X` and `X`. To get the transpose, use `X.T`. Let's call the result `XTX`.\n",
    "5. Compute the inverse of `XTX`.\n",
    "6. Create an array `y` with values `[1100, 1300, 800, 900, 1000, 1100]`.\n",
    "7. Multiply the inverse of `XTX` with the transpose of `X`, and then multiply the result by `y`. Call the result `w`.\n",
    "8. What's the sum of all the elements of the result?\n",
    "\n",
    "> **Note**: You just implemented linear regression. We'll talk about it in the next lesson.\n",
    "\n",
    "- 0.43\n",
    "- 45.29\n",
    "- 45.58\n",
    "- 91.30\n",
    "\n",
    "\n",
    "## Submit the results\n",
    "\n",
    "* Submit your results here: https://courses.datatalks.club/ml-zoomcamp-2024/homework/hw01\n",
    "* If your answer doesn't match options exactly, select the closest one\n"
   ]
  },
  {
   "cell_type": "markdown",
   "id": "5a4d762c-cdc6-4ff2-96b6-536311ebeadc",
   "metadata": {},
   "source": [
    "## Assignment Solution"
   ]
  },
  {
   "cell_type": "markdown",
   "id": "6304a802-5793-46d5-8fa1-bf5ef4e2689e",
   "metadata": {},
   "source": [
    "#### Import the needed libraries"
   ]
  },
  {
   "cell_type": "code",
   "execution_count": 2,
   "id": "595f8e87-c414-4a8e-a220-c84624da85f7",
   "metadata": {},
   "outputs": [],
   "source": [
    "import pandas as pd\n",
    "import numpy as  np"
   ]
  },
  {
   "cell_type": "markdown",
   "id": "294f7cfd-4e4d-44a9-9b82-72bbedd86f10",
   "metadata": {},
   "source": [
    "#### Read in and inspect the file"
   ]
  },
  {
   "cell_type": "code",
   "execution_count": 3,
   "id": "52ec21c3-d217-49eb-a4ef-41a590aa885e",
   "metadata": {},
   "outputs": [],
   "source": [
    "df = pd.read_csv('laptops.csv')"
   ]
  },
  {
   "cell_type": "code",
   "execution_count": 4,
   "id": "fb25d435-4f88-4ce7-8be2-1ab03496680d",
   "metadata": {},
   "outputs": [
    {
     "data": {
      "text/html": [
       "<div>\n",
       "<style scoped>\n",
       "    .dataframe tbody tr th:only-of-type {\n",
       "        vertical-align: middle;\n",
       "    }\n",
       "\n",
       "    .dataframe tbody tr th {\n",
       "        vertical-align: top;\n",
       "    }\n",
       "\n",
       "    .dataframe thead th {\n",
       "        text-align: right;\n",
       "    }\n",
       "</style>\n",
       "<table border=\"1\" class=\"dataframe\">\n",
       "  <thead>\n",
       "    <tr style=\"text-align: right;\">\n",
       "      <th></th>\n",
       "      <th>Laptop</th>\n",
       "      <th>Status</th>\n",
       "      <th>Brand</th>\n",
       "      <th>Model</th>\n",
       "      <th>CPU</th>\n",
       "      <th>RAM</th>\n",
       "      <th>Storage</th>\n",
       "      <th>Storage type</th>\n",
       "      <th>GPU</th>\n",
       "      <th>Screen</th>\n",
       "      <th>Touch</th>\n",
       "      <th>Final Price</th>\n",
       "    </tr>\n",
       "  </thead>\n",
       "  <tbody>\n",
       "    <tr>\n",
       "      <th>0</th>\n",
       "      <td>ASUS ExpertBook B1 B1502CBA-EJ0436X Intel Core...</td>\n",
       "      <td>New</td>\n",
       "      <td>Asus</td>\n",
       "      <td>ExpertBook</td>\n",
       "      <td>Intel Core i5</td>\n",
       "      <td>8</td>\n",
       "      <td>512</td>\n",
       "      <td>SSD</td>\n",
       "      <td>NaN</td>\n",
       "      <td>15.6</td>\n",
       "      <td>No</td>\n",
       "      <td>1009.00</td>\n",
       "    </tr>\n",
       "    <tr>\n",
       "      <th>1</th>\n",
       "      <td>Alurin Go Start Intel Celeron N4020/8GB/256GB ...</td>\n",
       "      <td>New</td>\n",
       "      <td>Alurin</td>\n",
       "      <td>Go</td>\n",
       "      <td>Intel Celeron</td>\n",
       "      <td>8</td>\n",
       "      <td>256</td>\n",
       "      <td>SSD</td>\n",
       "      <td>NaN</td>\n",
       "      <td>15.6</td>\n",
       "      <td>No</td>\n",
       "      <td>299.00</td>\n",
       "    </tr>\n",
       "    <tr>\n",
       "      <th>2</th>\n",
       "      <td>ASUS ExpertBook B1 B1502CBA-EJ0424X Intel Core...</td>\n",
       "      <td>New</td>\n",
       "      <td>Asus</td>\n",
       "      <td>ExpertBook</td>\n",
       "      <td>Intel Core i3</td>\n",
       "      <td>8</td>\n",
       "      <td>256</td>\n",
       "      <td>SSD</td>\n",
       "      <td>NaN</td>\n",
       "      <td>15.6</td>\n",
       "      <td>No</td>\n",
       "      <td>789.00</td>\n",
       "    </tr>\n",
       "    <tr>\n",
       "      <th>3</th>\n",
       "      <td>MSI Katana GF66 12UC-082XES Intel Core i7-1270...</td>\n",
       "      <td>New</td>\n",
       "      <td>MSI</td>\n",
       "      <td>Katana</td>\n",
       "      <td>Intel Core i7</td>\n",
       "      <td>16</td>\n",
       "      <td>1000</td>\n",
       "      <td>SSD</td>\n",
       "      <td>RTX 3050</td>\n",
       "      <td>15.6</td>\n",
       "      <td>No</td>\n",
       "      <td>1199.00</td>\n",
       "    </tr>\n",
       "    <tr>\n",
       "      <th>4</th>\n",
       "      <td>HP 15S-FQ5085NS Intel Core i5-1235U/16GB/512GB...</td>\n",
       "      <td>New</td>\n",
       "      <td>HP</td>\n",
       "      <td>15S</td>\n",
       "      <td>Intel Core i5</td>\n",
       "      <td>16</td>\n",
       "      <td>512</td>\n",
       "      <td>SSD</td>\n",
       "      <td>NaN</td>\n",
       "      <td>15.6</td>\n",
       "      <td>No</td>\n",
       "      <td>669.01</td>\n",
       "    </tr>\n",
       "  </tbody>\n",
       "</table>\n",
       "</div>"
      ],
      "text/plain": [
       "                                              Laptop Status   Brand  \\\n",
       "0  ASUS ExpertBook B1 B1502CBA-EJ0436X Intel Core...    New    Asus   \n",
       "1  Alurin Go Start Intel Celeron N4020/8GB/256GB ...    New  Alurin   \n",
       "2  ASUS ExpertBook B1 B1502CBA-EJ0424X Intel Core...    New    Asus   \n",
       "3  MSI Katana GF66 12UC-082XES Intel Core i7-1270...    New     MSI   \n",
       "4  HP 15S-FQ5085NS Intel Core i5-1235U/16GB/512GB...    New      HP   \n",
       "\n",
       "        Model            CPU  RAM  Storage Storage type       GPU  Screen  \\\n",
       "0  ExpertBook  Intel Core i5    8      512          SSD       NaN    15.6   \n",
       "1          Go  Intel Celeron    8      256          SSD       NaN    15.6   \n",
       "2  ExpertBook  Intel Core i3    8      256          SSD       NaN    15.6   \n",
       "3      Katana  Intel Core i7   16     1000          SSD  RTX 3050    15.6   \n",
       "4         15S  Intel Core i5   16      512          SSD       NaN    15.6   \n",
       "\n",
       "  Touch  Final Price  \n",
       "0    No      1009.00  \n",
       "1    No       299.00  \n",
       "2    No       789.00  \n",
       "3    No      1199.00  \n",
       "4    No       669.01  "
      ]
     },
     "execution_count": 4,
     "metadata": {},
     "output_type": "execute_result"
    }
   ],
   "source": [
    "df.head()"
   ]
  },
  {
   "cell_type": "markdown",
   "id": "31d652c2-fb46-4a27-9c4f-daaea80e7de9",
   "metadata": {},
   "source": [
    "#### Question 1"
   ]
  },
  {
   "cell_type": "code",
   "execution_count": 5,
   "id": "df7da3e2-d849-4f04-b50c-f1913d63dc2f",
   "metadata": {},
   "outputs": [
    {
     "data": {
      "text/plain": [
       "'2.1.4'"
      ]
     },
     "execution_count": 5,
     "metadata": {},
     "output_type": "execute_result"
    }
   ],
   "source": [
    "#Q1 pandas version\n",
    "pd.__version__"
   ]
  },
  {
   "cell_type": "markdown",
   "id": "cb618a7e-8f7b-4673-b142-f76b283f5335",
   "metadata": {},
   "source": [
    "#### Question 2"
   ]
  },
  {
   "cell_type": "code",
   "execution_count": 6,
   "id": "5ee56c54-bfb8-4fd1-a9db-88bf016ce707",
   "metadata": {},
   "outputs": [
    {
     "data": {
      "text/plain": [
       "(2160, 12)"
      ]
     },
     "execution_count": 6,
     "metadata": {},
     "output_type": "execute_result"
    }
   ],
   "source": [
    "#Q2 size of dataset\n",
    "df.shape"
   ]
  },
  {
   "cell_type": "markdown",
   "id": "e3831534-7acf-492e-b5fc-95e3cf11bb5d",
   "metadata": {},
   "source": [
    "#### Question 3"
   ]
  },
  {
   "cell_type": "code",
   "execution_count": 50,
   "id": "4362ae7d-e9f8-44a4-a513-c4abe5a31e82",
   "metadata": {},
   "outputs": [
    {
     "data": {
      "text/plain": [
       "27"
      ]
     },
     "execution_count": 50,
     "metadata": {},
     "output_type": "execute_result"
    }
   ],
   "source": [
    "#Q3 number of unique laptop brands\n",
    "df['Brand'].nunique()"
   ]
  },
  {
   "cell_type": "markdown",
   "id": "f631ddaf-2338-4277-a755-4ae10e20afe8",
   "metadata": {},
   "source": [
    "#### Question 4"
   ]
  },
  {
   "cell_type": "code",
   "execution_count": 9,
   "id": "c343cbb6-4017-4eb8-a0af-85306137c3af",
   "metadata": {},
   "outputs": [
    {
     "data": {
      "text/plain": [
       "Laptop             0\n",
       "Status             0\n",
       "Brand              0\n",
       "Model              0\n",
       "CPU                0\n",
       "RAM                0\n",
       "Storage            0\n",
       "Storage type      42\n",
       "GPU             1371\n",
       "Screen             4\n",
       "Touch              0\n",
       "Final Price        0\n",
       "dtype: int64"
      ]
     },
     "execution_count": 9,
     "metadata": {},
     "output_type": "execute_result"
    }
   ],
   "source": [
    "#Q4 columns with null values\n",
    "df.isnull().sum()"
   ]
  },
  {
   "cell_type": "markdown",
   "id": "d1e2fe62-0203-4ff3-b0dc-6be46ce8e53c",
   "metadata": {},
   "source": [
    "#### Question 5"
   ]
  },
  {
   "cell_type": "code",
   "execution_count": 53,
   "id": "ba992ff7-e2d8-4481-bc23-4c784ed91d25",
   "metadata": {},
   "outputs": [
    {
     "data": {
      "text/plain": [
       "3936.0"
      ]
     },
     "execution_count": 53,
     "metadata": {},
     "output_type": "execute_result"
    }
   ],
   "source": [
    "#Q5 max price of dell \n",
    "df[df['Brand']=='Dell']['Final Price'].max()"
   ]
  },
  {
   "cell_type": "markdown",
   "id": "1309cb33-079e-4646-a0d6-a8df454a95de",
   "metadata": {},
   "source": [
    "#### Question 6"
   ]
  },
  {
   "cell_type": "code",
   "execution_count": 54,
   "id": "90eb9360-6436-43da-9a38-fcbe983e4dda",
   "metadata": {},
   "outputs": [
    {
     "data": {
      "text/plain": [
       "15.6"
      ]
     },
     "execution_count": 54,
     "metadata": {},
     "output_type": "execute_result"
    }
   ],
   "source": [
    "#Q6 median value of screen\n",
    "df['Screen'].median()"
   ]
  },
  {
   "cell_type": "code",
   "execution_count": 63,
   "id": "05d8b2f6-f4c8-4a32-9a70-91d98610b4e5",
   "metadata": {},
   "outputs": [
    {
     "data": {
      "text/plain": [
       "15.6"
      ]
     },
     "execution_count": 63,
     "metadata": {},
     "output_type": "execute_result"
    }
   ],
   "source": [
    "freq_val = df['Screen'].value_counts()\n",
    "mode = freq_val.index[0]\n",
    "mode"
   ]
  },
  {
   "cell_type": "code",
   "execution_count": 64,
   "id": "430ee223-0d7d-493b-ae3b-962622bb30b2",
   "metadata": {},
   "outputs": [],
   "source": [
    "df['Screen'].fillna(mode, inplace=True)"
   ]
  },
  {
   "cell_type": "code",
   "execution_count": 65,
   "id": "d0f44a70-c5d2-499e-8fbb-24d4af205cb5",
   "metadata": {},
   "outputs": [
    {
     "data": {
      "text/plain": [
       "15.6"
      ]
     },
     "execution_count": 65,
     "metadata": {},
     "output_type": "execute_result"
    }
   ],
   "source": [
    "df['Screen'].median()"
   ]
  },
  {
   "cell_type": "code",
   "execution_count": 66,
   "id": "a997df82-a660-45fa-8ae1-77be4ebd1170",
   "metadata": {},
   "outputs": [
    {
     "data": {
      "text/plain": [
       "0"
      ]
     },
     "execution_count": 66,
     "metadata": {},
     "output_type": "execute_result"
    }
   ],
   "source": [
    "df['Screen'].isna().sum()"
   ]
  },
  {
   "cell_type": "markdown",
   "id": "86e61d82-d74d-4426-993f-4a4ff56af447",
   "metadata": {},
   "source": [
    "#### Question 7"
   ]
  },
  {
   "cell_type": "code",
   "execution_count": 67,
   "id": "95181a0a-b3a4-4b93-a465-d437804de02a",
   "metadata": {},
   "outputs": [],
   "source": [
    "#Q7 matrix operations\n",
    "innjoo = df[df['Brand']=='Innjoo']"
   ]
  },
  {
   "cell_type": "code",
   "execution_count": 68,
   "id": "3d409ebb-b05f-4518-a545-7bd71c0f9451",
   "metadata": {},
   "outputs": [],
   "source": [
    "array = innjoo[['RAM', 'Storage', 'Screen']]"
   ]
  },
  {
   "cell_type": "code",
   "execution_count": 69,
   "id": "b0f9572f-4cb3-461e-a7ee-1e226d94065d",
   "metadata": {},
   "outputs": [
    {
     "data": {
      "text/plain": [
       "array([[  8. , 256. ,  15.6],\n",
       "       [  8. , 512. ,  15.6],\n",
       "       [  4. ,  64. ,  14.1],\n",
       "       [  6. ,  64. ,  14.1],\n",
       "       [  6. , 128. ,  14.1],\n",
       "       [  6. , 128. ,  14.1]])"
      ]
     },
     "execution_count": 69,
     "metadata": {},
     "output_type": "execute_result"
    }
   ],
   "source": [
    "X = np.array(array)\n",
    "X"
   ]
  },
  {
   "cell_type": "code",
   "execution_count": 70,
   "id": "a5fa8180-5ac6-4a2c-a9af-5b46f99d734c",
   "metadata": {},
   "outputs": [
    {
     "data": {
      "text/plain": [
       "array([[2.52000e+02, 8.32000e+03, 5.59800e+02],\n",
       "       [8.32000e+03, 3.68640e+05, 1.73952e+04],\n",
       "       [5.59800e+02, 1.73952e+04, 1.28196e+03]])"
      ]
     },
     "execution_count": 70,
     "metadata": {},
     "output_type": "execute_result"
    }
   ],
   "source": [
    "XTX = X.T @ X\n",
    "XTX"
   ]
  },
  {
   "cell_type": "code",
   "execution_count": 71,
   "id": "31dd834d-fd43-4d62-8780-fa69eb18c066",
   "metadata": {},
   "outputs": [],
   "source": [
    "XTX_inv = np.linalg.inv(XTX)"
   ]
  },
  {
   "cell_type": "code",
   "execution_count": 72,
   "id": "af94db97-c2e8-4fae-ae52-89f5b7b650d5",
   "metadata": {},
   "outputs": [],
   "source": [
    "y = np.array([1100, 1300, 800, 900, 1000, 1100])"
   ]
  },
  {
   "cell_type": "code",
   "execution_count": 73,
   "id": "1232beb3-98f5-4320-8278-ec02eab8dbc9",
   "metadata": {},
   "outputs": [],
   "source": [
    "w = XTX_inv @ X.T @ y"
   ]
  },
  {
   "cell_type": "code",
   "execution_count": 74,
   "id": "652dc90b-91ca-4ec3-9ac4-4fe260dd2d86",
   "metadata": {},
   "outputs": [],
   "source": [
    "result = np.sum(w)"
   ]
  },
  {
   "cell_type": "code",
   "execution_count": 78,
   "id": "4ce91457-d06b-4d1a-b80c-d678753138ea",
   "metadata": {},
   "outputs": [
    {
     "name": "stdout",
     "output_type": "stream",
     "text": [
      "Sum of all elements in w: 91.3\n"
     ]
    }
   ],
   "source": [
    "print(\"Sum of all elements in w:\", round(result,3))"
   ]
  },
  {
   "cell_type": "code",
   "execution_count": null,
   "id": "143523cd-eaf1-4c0d-ac8f-616c4dc670c1",
   "metadata": {},
   "outputs": [],
   "source": []
  }
 ],
 "metadata": {
  "kernelspec": {
   "display_name": "Python 3 (ipykernel)",
   "language": "python",
   "name": "python3"
  },
  "language_info": {
   "codemirror_mode": {
    "name": "ipython",
    "version": 3
   },
   "file_extension": ".py",
   "mimetype": "text/x-python",
   "name": "python",
   "nbconvert_exporter": "python",
   "pygments_lexer": "ipython3",
   "version": "3.11.7"
  }
 },
 "nbformat": 4,
 "nbformat_minor": 5
}
